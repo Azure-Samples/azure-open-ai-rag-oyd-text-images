{
 "cells": [
  {
   "cell_type": "code",
   "execution_count": null,
   "metadata": {},
   "outputs": [],
   "source": [
    "import json\n",
    "import dotenv\n",
    "import os\n",
    "from azure.identity import DefaultAzureCredential\n",
    "from openai import AzureOpenAI\n",
    "import requests\n",
    "from IPython.display import Image, display\n",
    "\n",
    "dotenv.load_dotenv()\n",
    "\n",
    "endpoint = os.environ.get(\"AZURE_OPENAI_ENDPOINT\")\n",
    "deployment = os.environ.get(\"AZURE_OPENAI_CHATGPT_DEPLOYMENT\")\n",
    "api_key = os.environ.get(\"AZURE_OPENAI_KEY\")\n",
    "api_version = os.environ.get(\"AZURE_OPENAI_API_VERSION\")\n",
    "deployment_embedding = os.environ.get(\"AZURE_OPENAI_CHATGPT_EMBEDDING_DEPLOYMENT\")\n",
    "\n",
    "search_endpoint = os.environ.get(\"SEARCH_ENDPOINT\")\n",
    "search_index = os.environ.get(\"SEARCH_INDEX\")\n",
    "search_api_key = os.environ.get(\"SEARCH_API_KEY\")\n",
    "search_semantic_config = os.environ.get(\"SEARCH_SEMANTIC_CONFIGURATION\")"
   ]
  },
  {
   "cell_type": "code",
   "execution_count": null,
   "metadata": {},
   "outputs": [],
   "source": [
    "\n",
    "creds = DefaultAzureCredential()\n",
    "token = creds.get_token(\"https://storage.azure.com/.default\").token"
   ]
  },
  {
   "cell_type": "code",
   "execution_count": null,
   "metadata": {},
   "outputs": [],
   "source": [
    "aoai_client = AzureOpenAI(\n",
    "        azure_endpoint=endpoint,\n",
    "        api_key=api_key,\n",
    "        api_version=api_version,\n",
    "    )"
   ]
  },
  {
   "cell_type": "code",
   "execution_count": null,
   "metadata": {},
   "outputs": [],
   "source": [
    "search_text = 'Tell me about Kubernetes.'"
   ]
  },
  {
   "cell_type": "code",
   "execution_count": null,
   "metadata": {},
   "outputs": [],
   "source": [
    "system_prompt = \"You are an AI assistant that helps people find information.\"\n",
    "\n",
    "completion = aoai_client.chat.completions.create(\n",
    "    model=deployment,\n",
    "    messages=[\n",
    "        {\n",
    "            \"role\": \"user\",\n",
    "            \"content\": f\"{search_text}\"\n",
    "        }\n",
    "    ],\n",
    "    extra_body={\n",
    "        \"data_sources\": [\n",
    "            {\n",
    "                \"type\": \"azure_search\",\n",
    "                \"parameters\": {\n",
    "                    \"semantic_configuration\": search_semantic_config,\n",
    "                    \"role_information\": system_prompt,\n",
    "                    \"endpoint\": search_endpoint,\n",
    "                    \"index_name\": search_index,\n",
    "                    \"key\": search_api_key,\n",
    "                    \"embedding_dependency\": {\n",
    "                        \"type\": \"deployment_name\",\n",
    "                        \"deployment_name\": deployment_embedding\n",
    "                    }\n",
    "                },\n",
    "            }\n",
    "        ]\n",
    "    },\n",
    ")\n",
    "\n",
    "result = json.loads(completion.to_json())"
   ]
  },
  {
   "cell_type": "code",
   "execution_count": null,
   "metadata": {},
   "outputs": [],
   "source": [
    "images_list = []\n",
    "\n",
    "print('*** LLM generated response content: ***\\n')\n",
    "print(result['choices'][0]['message']['content'])\n",
    "\n",
    "print('\\n\\n*** Citations: ***\\n')\n",
    "if result['choices'][0]['message']['context']['citations']:\n",
    "    for citation in result['choices'][0]['message']['context']['citations']:\n",
    "        print(f\"Content: {citation['content']}\")\n",
    "        print(f\"File URL: {citation['filepath']}\")\n",
    "        images = json.loads(citation['url'])\n",
    "        for image in images:\n",
    "            print(f\"Image URL: {image}\")\n",
    "            images_list.append(image)\n",
    "        print()\n",
    "\n",
    "print(f'\\n\\n*** Citations have in total {len(images_list)} images. ***\\n')\n",
    "for img in images_list:\n",
    "    print(img)\n",
    "    r = requests.get(img, headers={ \"Authorization\": \"Bearer \" + token, 'x-ms-version': '2020-04-08'})\n",
    "    display(Image(r.content, width=640))"
   ]
  }
 ],
 "metadata": {
  "kernelspec": {
   "display_name": "Python 3",
   "language": "python",
   "name": "python3"
  },
  "language_info": {
   "codemirror_mode": {
    "name": "ipython",
    "version": 3
   },
   "file_extension": ".py",
   "mimetype": "text/x-python",
   "name": "python",
   "nbconvert_exporter": "python",
   "pygments_lexer": "ipython3",
   "version": "3.10.12"
  }
 },
 "nbformat": 4,
 "nbformat_minor": 2
}
